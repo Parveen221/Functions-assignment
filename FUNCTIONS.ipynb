{
  "nbformat": 4,
  "nbformat_minor": 0,
  "metadata": {
    "colab": {
      "provenance": []
    },
    "kernelspec": {
      "name": "python3",
      "display_name": "Python 3"
    },
    "language_info": {
      "name": "python"
    }
  },
  "cells": [
    {
      "cell_type": "markdown",
      "source": [
        "# PRACTICALS"
      ],
      "metadata": {
        "id": "AY-zoa99wNSp"
      }
    },
    {
      "cell_type": "markdown",
      "source": [
        "Write a Python function that takes a list of numbers as input and returns the sum of all even numbers in the list."
      ],
      "metadata": {
        "id": "ePRMZ8BnZebg"
      }
    },
    {
      "cell_type": "code",
      "source": [
        "def sum_even_numbers(numbers):\n",
        "    return sum(num for num in numbers if num % 2 == 0)\n",
        "\n",
        "# Example\n",
        "my_list = [1, 2, 3, 4, 5, 6]\n",
        "result = sum_even_numbers(my_list)\n",
        "print(\"Sum of even numbers:\", result)"
      ],
      "metadata": {
        "colab": {
          "base_uri": "https://localhost:8080/"
        },
        "id": "TwMiCwiDZhG_",
        "outputId": "51a52c0f-d328-4d05-bfea-676345f0be0d"
      },
      "execution_count": 16,
      "outputs": [
        {
          "output_type": "stream",
          "name": "stdout",
          "text": [
            "Sum of even numbers: 12\n"
          ]
        }
      ]
    },
    {
      "cell_type": "markdown",
      "source": [
        "2. Create a Python function that accepts a string and returns the reverse of that string."
      ],
      "metadata": {
        "id": "uaPbAlT4Z6tu"
      }
    },
    {
      "cell_type": "code",
      "source": [
        "def reverse_string(s):\n",
        "    return s[::-1]\n",
        "\n",
        "# Example\n",
        "input_str = \"hello\"\n",
        "reversed_str = reverse_string(input_str)\n",
        "print(\"Reversed string:\", reversed_str)"
      ],
      "metadata": {
        "colab": {
          "base_uri": "https://localhost:8080/"
        },
        "id": "6X94UI9KZ9JY",
        "outputId": "e2b3a6e1-995a-4c63-8b38-0a47135c8561"
      },
      "execution_count": 15,
      "outputs": [
        {
          "output_type": "stream",
          "name": "stdout",
          "text": [
            "Reversed string: olleh\n"
          ]
        }
      ]
    },
    {
      "cell_type": "markdown",
      "source": [
        " Implement a Python function that takes a list of integers and returns a new list containing the squares of each number."
      ],
      "metadata": {
        "id": "0pHGt1wmaPVm"
      }
    },
    {
      "cell_type": "code",
      "source": [
        "def square_numbers(numbers):\n",
        "    return [num ** 2 for num in numbers]\n",
        "\n",
        "# Example\n",
        "my_list = [1, 2, 3, 4, 5]\n",
        "squared_list = square_numbers(my_list)\n",
        "print(\"Squared numbers:\", squared_list)"
      ],
      "metadata": {
        "colab": {
          "base_uri": "https://localhost:8080/"
        },
        "id": "Dr1YvhtDaWnW",
        "outputId": "23278f1f-0e58-4d0f-c28c-6993d443b325"
      },
      "execution_count": 14,
      "outputs": [
        {
          "output_type": "stream",
          "name": "stdout",
          "text": [
            "Squared numbers: [1, 4, 9, 16, 25]\n"
          ]
        }
      ]
    },
    {
      "cell_type": "markdown",
      "source": [
        "4. Write a Python function that checks if a given number is prime or not from 1 to 200."
      ],
      "metadata": {
        "id": "UMChAvlbazbY"
      }
    },
    {
      "cell_type": "code",
      "source": [
        "def is_prime(n):\n",
        "    if n < 2 or n > 200:\n",
        "        return False  # Not in the range 1–200 or not prime\n",
        "    for i in range(2, int(n ** 0.5) + 1):\n",
        "        if n % i == 0:\n",
        "            return False\n",
        "    return True\n",
        "\n",
        "# Example\n",
        "number = 97\n",
        "if is_prime(number):\n",
        "    print(f\"{number} is a prime number.\")\n",
        "else:\n",
        "    print(f\"{number} is not a prime number.\")"
      ],
      "metadata": {
        "colab": {
          "base_uri": "https://localhost:8080/"
        },
        "id": "Q_8C6Mk0aXyr",
        "outputId": "bd76e98b-6f30-4d02-de6c-150425af6874"
      },
      "execution_count": 13,
      "outputs": [
        {
          "output_type": "stream",
          "name": "stdout",
          "text": [
            "97 is a prime number.\n"
          ]
        }
      ]
    },
    {
      "cell_type": "markdown",
      "source": [
        " Create an iterator class in Python that generates the Fibonacci sequence up to a specified number of terms."
      ],
      "metadata": {
        "id": "RgF7dUKva77Y"
      }
    },
    {
      "cell_type": "code",
      "source": [
        "class Fibonacci:\n",
        "    def __init__(self, n):\n",
        "        self.n = n  # Total numbers to generate\n",
        "        self.current = 0  # Start with the first number\n",
        "        self.next_num = 1  # The second number\n",
        "        self.count = 0  # Counter to track how many numbers we've given\n",
        "\n",
        "    def __iter__(self):\n",
        "        return self\n",
        "\n",
        "    def __next__(self):\n",
        "        if self.count >= self.n:\n",
        "            raise StopIteration\n",
        "        result = self.current\n",
        "        self.current, self.next_num = self.next_num, self.current + self.next_num\n",
        "        self.count += 1\n",
        "        return result\n",
        "\n",
        "# Example\n",
        "fibo = Fibonacci(10)\n",
        "\n",
        "for num in fibo:\n",
        "    print(num)\n"
      ],
      "metadata": {
        "colab": {
          "base_uri": "https://localhost:8080/"
        },
        "id": "Af5n-A6Ra2xO",
        "outputId": "306a247d-780b-4583-f6a0-123a10bf3e7f"
      },
      "execution_count": 12,
      "outputs": [
        {
          "output_type": "stream",
          "name": "stdout",
          "text": [
            "0\n",
            "1\n",
            "1\n",
            "2\n",
            "3\n",
            "5\n",
            "8\n",
            "13\n",
            "21\n",
            "34\n"
          ]
        }
      ]
    },
    {
      "cell_type": "markdown",
      "source": [
        "6. Write a generator function in Python that yields the powers of 2 up to a given exponent."
      ],
      "metadata": {
        "id": "q180BufibnY5"
      }
    },
    {
      "cell_type": "code",
      "source": [
        "def powers_of_two(max_exponent):\n",
        "    for i in range(max_exponent + 1):\n",
        "        yield 2 ** i\n",
        "\n",
        "# Examples\n",
        "for value in powers_of_two(5):\n",
        "    print(value)\n"
      ],
      "metadata": {
        "colab": {
          "base_uri": "https://localhost:8080/"
        },
        "id": "emaaA2vxbp__",
        "outputId": "703e1fc1-73c4-429e-d8fe-057dd022718a"
      },
      "execution_count": 11,
      "outputs": [
        {
          "output_type": "stream",
          "name": "stdout",
          "text": [
            "1\n",
            "2\n",
            "4\n",
            "8\n",
            "16\n",
            "32\n"
          ]
        }
      ]
    },
    {
      "cell_type": "markdown",
      "source": [
        "7. Implement a generator function that reads a file line by line and yields each line as a string."
      ],
      "metadata": {
        "id": "7sajHRp-b0Jc"
      }
    },
    {
      "cell_type": "code",
      "source": [
        "def read_file_lines(file_path):\n",
        "    with open(file_path, 'r') as file:\n",
        "        for line in file:\n",
        "            yield line.strip()  # .strip() removes newline and extra spaces\n",
        "\n",
        "# Example usage:\n",
        "for line in read_file_lines('your_file.txt'):\n",
        "    print(line)"
      ],
      "metadata": {
        "colab": {
          "base_uri": "https://localhost:8080/",
          "height": 315
        },
        "id": "VEP1sctQbu5b",
        "outputId": "4b100597-fa04-43d4-f13c-9a33b20adba4"
      },
      "execution_count": 9,
      "outputs": [
        {
          "output_type": "error",
          "ename": "FileNotFoundError",
          "evalue": "[Errno 2] No such file or directory: 'your_file.txt'",
          "traceback": [
            "\u001b[0;31m---------------------------------------------------------------------------\u001b[0m",
            "\u001b[0;31mFileNotFoundError\u001b[0m                         Traceback (most recent call last)",
            "\u001b[0;32m<ipython-input-9-e85247313ff7>\u001b[0m in \u001b[0;36m<cell line: 0>\u001b[0;34m()\u001b[0m\n\u001b[1;32m      6\u001b[0m \u001b[0;31m# Example usage:\u001b[0m\u001b[0;34m\u001b[0m\u001b[0;34m\u001b[0m\u001b[0m\n\u001b[1;32m      7\u001b[0m \u001b[0;31m# Make sure to replace 'your_file.txt' with the actual file path\u001b[0m\u001b[0;34m\u001b[0m\u001b[0;34m\u001b[0m\u001b[0m\n\u001b[0;32m----> 8\u001b[0;31m \u001b[0;32mfor\u001b[0m \u001b[0mline\u001b[0m \u001b[0;32min\u001b[0m \u001b[0mread_file_lines\u001b[0m\u001b[0;34m(\u001b[0m\u001b[0;34m'your_file.txt'\u001b[0m\u001b[0;34m)\u001b[0m\u001b[0;34m:\u001b[0m\u001b[0;34m\u001b[0m\u001b[0;34m\u001b[0m\u001b[0m\n\u001b[0m\u001b[1;32m      9\u001b[0m     \u001b[0mprint\u001b[0m\u001b[0;34m(\u001b[0m\u001b[0mline\u001b[0m\u001b[0;34m)\u001b[0m\u001b[0;34m\u001b[0m\u001b[0;34m\u001b[0m\u001b[0m\n",
            "\u001b[0;32m<ipython-input-9-e85247313ff7>\u001b[0m in \u001b[0;36mread_file_lines\u001b[0;34m(file_path)\u001b[0m\n\u001b[1;32m      1\u001b[0m \u001b[0;32mdef\u001b[0m \u001b[0mread_file_lines\u001b[0m\u001b[0;34m(\u001b[0m\u001b[0mfile_path\u001b[0m\u001b[0;34m)\u001b[0m\u001b[0;34m:\u001b[0m\u001b[0;34m\u001b[0m\u001b[0;34m\u001b[0m\u001b[0m\n\u001b[0;32m----> 2\u001b[0;31m     \u001b[0;32mwith\u001b[0m \u001b[0mopen\u001b[0m\u001b[0;34m(\u001b[0m\u001b[0mfile_path\u001b[0m\u001b[0;34m,\u001b[0m \u001b[0;34m'r'\u001b[0m\u001b[0;34m)\u001b[0m \u001b[0;32mas\u001b[0m \u001b[0mfile\u001b[0m\u001b[0;34m:\u001b[0m\u001b[0;34m\u001b[0m\u001b[0;34m\u001b[0m\u001b[0m\n\u001b[0m\u001b[1;32m      3\u001b[0m         \u001b[0;32mfor\u001b[0m \u001b[0mline\u001b[0m \u001b[0;32min\u001b[0m \u001b[0mfile\u001b[0m\u001b[0;34m:\u001b[0m\u001b[0;34m\u001b[0m\u001b[0;34m\u001b[0m\u001b[0m\n\u001b[1;32m      4\u001b[0m             \u001b[0;32myield\u001b[0m \u001b[0mline\u001b[0m\u001b[0;34m.\u001b[0m\u001b[0mstrip\u001b[0m\u001b[0;34m(\u001b[0m\u001b[0;34m)\u001b[0m  \u001b[0;31m# .strip() removes newline and extra spaces\u001b[0m\u001b[0;34m\u001b[0m\u001b[0;34m\u001b[0m\u001b[0m\n\u001b[1;32m      5\u001b[0m \u001b[0;34m\u001b[0m\u001b[0m\n",
            "\u001b[0;31mFileNotFoundError\u001b[0m: [Errno 2] No such file or directory: 'your_file.txt'"
          ]
        }
      ]
    },
    {
      "cell_type": "markdown",
      "source": [
        "8. Use a lambda function in Python to sort a list of tuples based on the second element of each tuple."
      ],
      "metadata": {
        "id": "pO1tOvE1dLqB"
      }
    },
    {
      "cell_type": "code",
      "source": [
        "my_list = [(1, 5), (3, 2), (4, 8), (2, 1)]\n",
        "\n",
        "sorted_list = sorted(my_list, key=lambda x: x[1])\n",
        "\n",
        "print(\"Sorted list:\", sorted_list)"
      ],
      "metadata": {
        "colab": {
          "base_uri": "https://localhost:8080/"
        },
        "id": "Gs6qFsCddifF",
        "outputId": "f7b84f6f-692d-44ad-cea5-b721629a1297"
      },
      "execution_count": 18,
      "outputs": [
        {
          "output_type": "stream",
          "name": "stdout",
          "text": [
            "Sorted list: [(2, 1), (3, 2), (1, 5), (4, 8)]\n"
          ]
        }
      ]
    },
    {
      "cell_type": "markdown",
      "source": [
        "9. Write a Python program that uses `map()` to convert a list of temperatures from Celsius to Fahrenheit."
      ],
      "metadata": {
        "id": "LYQLciE4dpu4"
      }
    },
    {
      "cell_type": "code",
      "source": [
        "celsius_temps = [0, 10, 20, 30, 40]\n",
        "\n",
        "# Formula: F = (C * 9/5) + 32\n",
        "fahrenheit_temps = list(map(lambda c: (c * 9/5) + 32, celsius_temps))\n",
        "\n",
        "print(\"Celsius:\", celsius_temps)\n",
        "print(\"Fahrenheit:\", fahrenheit_temps)\n"
      ],
      "metadata": {
        "colab": {
          "base_uri": "https://localhost:8080/"
        },
        "id": "hEYRrK3qdt5T",
        "outputId": "e758ab6f-4dd4-4f5e-d6e2-99cdcbf3af74"
      },
      "execution_count": 19,
      "outputs": [
        {
          "output_type": "stream",
          "name": "stdout",
          "text": [
            "Celsius: [0, 10, 20, 30, 40]\n",
            "Fahrenheit: [32.0, 50.0, 68.0, 86.0, 104.0]\n"
          ]
        }
      ]
    },
    {
      "cell_type": "markdown",
      "source": [
        "10. Create a Python program that uses `filter()` to remove all the vowels from a given string."
      ],
      "metadata": {
        "id": "XA48mf2Md4pK"
      }
    },
    {
      "cell_type": "code",
      "source": [
        "def remove_vowels(input_str):\n",
        "    vowels = 'aeiouAEIOU'\n",
        "    return ''.join(filter(lambda char: char not in vowels, input_str))\n",
        "\n",
        "# Example\n",
        "text = \"Hello, this is a simple string!\"\n",
        "no_vowels = remove_vowels(text)\n",
        "print(\"Original:\", text)\n",
        "print(\"Without vowels:\", no_vowels)\n"
      ],
      "metadata": {
        "colab": {
          "base_uri": "https://localhost:8080/"
        },
        "id": "dC0DyO4-dz-t",
        "outputId": "e2dcd365-6f18-4ea3-f5d6-8437b138b810"
      },
      "execution_count": 20,
      "outputs": [
        {
          "output_type": "stream",
          "name": "stdout",
          "text": [
            "Original: Hello, this is a simple string!\n",
            "Without vowels: Hll, ths s  smpl strng!\n"
          ]
        }
      ]
    },
    {
      "cell_type": "markdown",
      "source": [
        "11) Imagine an accounting routine used in a book shop. It works on a list with sublists, which look like this:"
      ],
      "metadata": {
        "id": "QmNIoC6JeV5B"
      }
    },
    {
      "cell_type": "code",
      "source": [
        "orders = [\n",
        "    (34587, \"Learning Python, Mark Lutz\", 4, 40.95),\n",
        "    (98762, \"Programming Python, Mark Lutz\", 5, 56.80),\n",
        "    (77226, \"Head First Python, Paul Barry\", 3, 32.95),\n",
        "    (88112, \"Einführung in Python3, Bernd Klein\", 3, 24.99),]\n",
        "\n",
        "def calculate_order_total(orders):\n",
        "    order_totals = list(map(lambda order: (order[0], max(order[2] * order[3], 100)), orders))\n",
        "    return order_totals\n",
        "\n",
        "order_totals = calculate_order_total(orders)\n",
        "\n",
        "print(\"Order Number | Total Cost\")\n",
        "for order in order_totals:\n",
        "    print(f\"{order[0]}          | ${order[1]:.2f}\")\n"
      ],
      "metadata": {
        "colab": {
          "base_uri": "https://localhost:8080/"
        },
        "id": "k0nh2tcjd9_E",
        "outputId": "ccc9be97-54a3-43ac-dbb2-0e250473e330"
      },
      "execution_count": 21,
      "outputs": [
        {
          "output_type": "stream",
          "name": "stdout",
          "text": [
            "Order Number | Total Cost\n",
            "34587          | $163.80\n",
            "98762          | $284.00\n",
            "77226          | $100.00\n",
            "88112          | $100.00\n"
          ]
        }
      ]
    },
    {
      "cell_type": "markdown",
      "source": [
        "Write a Python program, which returns a list with 2-tuples. Each tuple consists of the order number and the product of the price per item and the quantity. The product should be increased by 10,- € if the value of the order is smaller than 100,00 €."
      ],
      "metadata": {
        "id": "xb8KmEWpezIU"
      }
    },
    {
      "cell_type": "code",
      "source": [
        "def calculate_order_values(orders):\n",
        "    \"\"\"\n",
        "    Calculates the total value for each order.\n",
        "    Adds 10.00 € if the total is less than 100.00 €.\n",
        "\n",
        "    Args:\n",
        "        orders (list of tuples): Each tuple contains (order_number, price_per_item, quantity)\n",
        "\n",
        "    Returns:\n",
        "        list of tuples: Each tuple contains (order_number, total_value)\n",
        "    \"\"\"\n",
        "    result = []\n",
        "    for order_number, price_per_item, quantity in orders:\n",
        "        total = price_per_item * quantity\n",
        "        if total < 100.00:\n",
        "            total += 10.00\n",
        "        result.append((order_number, round(total, 2)))\n",
        "    return result\n",
        "\n",
        "\n",
        "# Example usage\n",
        "orders = [\n",
        "    (1, 15.00, 2),\n",
        "    (2, 50.00, 1),\n",
        "    (3, 20.00, 5),\n",
        "    (4, 10.00, 3),\n",
        "]\n",
        "\n",
        "result = calculate_order_values(orders)\n",
        "print(result)\n"
      ],
      "metadata": {
        "colab": {
          "base_uri": "https://localhost:8080/"
        },
        "id": "bO0th-jueoAA",
        "outputId": "357b26de-048a-4f3e-c0dc-e36a8595125d"
      },
      "execution_count": 24,
      "outputs": [
        {
          "output_type": "stream",
          "name": "stdout",
          "text": [
            "[(1, 40.0), (2, 60.0), (3, 100.0), (4, 40.0)]\n"
          ]
        }
      ]
    },
    {
      "cell_type": "markdown",
      "source": [
        "Write a Python program using lambda and map."
      ],
      "metadata": {
        "id": "zFjFqVVvfmum"
      }
    },
    {
      "cell_type": "code",
      "source": [
        "numbers = [1, 2, 3, 4, 5]\n",
        "\n",
        "squared_numbers = list(map(lambda x: x ** 2, numbers))\n",
        "\n",
        "print(\"Original numbers:\", numbers)\n",
        "print(\"Squared numbers:\", squared_numbers)\n"
      ],
      "metadata": {
        "colab": {
          "base_uri": "https://localhost:8080/"
        },
        "id": "WAstRX27fofb",
        "outputId": "65e7b0cf-063c-48eb-eae6-1541c615e31a"
      },
      "execution_count": 25,
      "outputs": [
        {
          "output_type": "stream",
          "name": "stdout",
          "text": [
            "Original numbers: [1, 2, 3, 4, 5]\n",
            "Squared numbers: [1, 4, 9, 16, 25]\n"
          ]
        }
      ]
    },
    {
      "cell_type": "markdown",
      "source": [
        "# Theory Questions:"
      ],
      "metadata": {
        "id": "MoURtHt_pX6S"
      }
    },
    {
      "cell_type": "markdown",
      "source": [
        "FUNCTIONS:\n",
        "A function is a block of reusable code that is defined using the def keyword.\n",
        "Called independently.\n",
        "Not tied to any object/class.\n",
        "\n",
        "Method:\n",
        "\n",
        "A method is a function that is associated with an object.\n",
        "Called on an object (usually using dot notation).\n",
        "Belongs to a class or object.\n",
        "\n",
        "\n",
        "For example:\n",
        "\n",
        "def greet(name):\n",
        "    return f\"Hello, {name}!\"\n",
        "\n",
        "print(greet(\"Alice\"))\n",
        "\n",
        "\n",
        "# A class with a method\n",
        "\n",
        "class Person:\n",
        "    def __init__(self, name):\n",
        "        self.name = name\n",
        "\n",
        "    def greet(self):  # This is a method\n",
        "        return f\"Hello, {self.name}!\"\n",
        "\n",
        "p = Person(\"Bob\")\n",
        "print(p.greet())\n"
      ],
      "metadata": {
        "id": "ZPDk_7t0ppW-"
      }
    },
    {
      "cell_type": "markdown",
      "source": [
        "2. Explain the concept of function arguments and parameters in Python.\n",
        "\n",
        "🔹 Parameters:\n",
        "These are variables listed in the function definition.\n",
        "\n",
        "They act as placeholders for the values (arguments) that will be passed when the function is called.\n",
        "\n",
        "🔹 Arguments:\n",
        "These are the actual values you provide to a function when you call it.\n",
        "\n",
        "They are assigned to the corresponding parameters.\n",
        "\n",
        "For example:\n",
        "\n",
        "def add(a, b):\n",
        "\n",
        "    return a + b\n",
        "\n",
        "\n",
        "result = add(5, 3) # Function call with arguments 5 and 3\n",
        "\n",
        "print(\"Sum:\", result)\n"
      ],
      "metadata": {
        "id": "XtkcV_-eqNzz"
      }
    },
    {
      "cell_type": "markdown",
      "source": [
        "3. What are the different ways to define and call a function in Python?\n",
        "\n",
        "Answers:\n",
        "\n",
        "1. Regular Function (using def)\n",
        "\n",
        "def greet(name):\n",
        "    \n",
        "    return f\"Hello, {name}!\"\n",
        "\n",
        " call function\n",
        "\n",
        " print(greet(\"Alice\"))\n",
        "\n",
        "2. Function with Keyword Arguments\n",
        "\n",
        "def info(name, age):\n",
        "\n",
        "    return f\"{name} is {age} years old.\"\n",
        "\n",
        " call:\n",
        "\n",
        " print(info(age=25, name=\"Emma\"))\n",
        "\n",
        "3. Function with Variable-length Arguments (*args, **kwargs)\n",
        "\n",
        "def total(*numbers):\n",
        "\n",
        "    return sum(numbers)\n",
        "\n",
        "print(total(1, 2, 3, 4))  # Output: 10\n",
        "\n",
        "4. Lambda Function\n",
        "\n",
        "square = lambda x: x * x\n",
        "\n",
        "print(square(5))  # Output: 25\n",
        "\n",
        "\n"
      ],
      "metadata": {
        "id": "bFYEGc3eqoG3"
      }
    },
    {
      "cell_type": "markdown",
      "source": [
        "4. What is the purpose of the `return` statement in a Python function?\n",
        "\n",
        "Answers:\n",
        "\n",
        "Purpose:\n",
        "The return statement is used to send back a result from a function to the place where it was called.\n",
        "\n",
        "It ends the functions execution and returns a value to the caller.\n",
        "\n",
        "Without a return, a function returns None by default.\n",
        "\n",
        "example:\n",
        "\n",
        "def multiply(a, b):\n",
        "   \n",
        "    return a * b  # Returns the product of a and b\n",
        "\n",
        "result = multiply(4, 5)\n",
        "\n",
        "print(\"Result:\", result)\n"
      ],
      "metadata": {
        "id": "jUXFAOscrlic"
      }
    },
    {
      "cell_type": "markdown",
      "source": [
        "5. What are iterators in Python and how do they differ from iterables?\n",
        "\n",
        "Answer:\n",
        "\n",
        "Iterables: An iterable is any Python object capable of returning its members one at a time.\n",
        "Common examples: list, tuple, str, dict, set. we camn use a for loop here.\n",
        "\n",
        " Iterators:\n",
        " An iterator is an object with a state so it remembers where it is during iteration.\n",
        "It implements two methods:\n",
        "\n",
        "__iter__() → returns the iterator object itself.\n",
        "\n",
        "__next__() → returns the next item.\n",
        "\n",
        "For example:\n",
        "\n",
        "# A list is an iterable\n",
        "my_list = [10, 20, 30]\n",
        "\n",
        "# Convert iterable to iterator\n",
        "my_iter = iter(my_list)\n",
        "\n",
        "print(next(my_iter))  # Output: 10\n",
        "print(next(my_iter))  # Output: 20\n",
        "print(next(my_iter))  # Output: 30\n",
        "# next(my_iter) would raise StopIteration\n"
      ],
      "metadata": {
        "id": "R974FqMAr42m"
      }
    },
    {
      "cell_type": "markdown",
      "source": [
        "6. Explain the concept of generators in Python and how they are defined.\n",
        "\n",
        "Answers:\n",
        "A generator is a special type of iterator that yields values one at a time using yield or generator expressions.\n",
        "used to produce items one at a time using yield or generator expressions, saving memory.\n",
        " gen = (x * x for x in range(5))\n",
        "\n"
      ],
      "metadata": {
        "id": "WOswKPKMsigb"
      }
    },
    {
      "cell_type": "markdown",
      "source": [
        "7. What are the advantages of using generators over regular functions?\n",
        "\n",
        "Answers:\n",
        "\n",
        "Advantages:\n",
        "\n",
        "1. Memory Efficient: They generate items one by one, not storing the whole data in memory.\n",
        "\n",
        "2. Faster for Large Data: Start producing results immediately without waiting for all computations.\n",
        "\n",
        "3. Simpler Code: Replace complex iterator classes with simple yield statements.\n",
        "\n",
        "4. Lazy Evaluation: Only compute values when needed, reducing overhead.\n",
        "\n",
        "Example:\n",
        "\n",
        "gen = (x * 2 for x in range(100)) # Efficient memory usage vs. list"
      ],
      "metadata": {
        "id": "9LQPA-OFtNIN"
      }
    },
    {
      "cell_type": "markdown",
      "source": [
        "8. What is a lambda function in Python and when is it typically used?\n",
        "\n",
        "Answers:\n",
        "\n",
        "A lambda function is a small anonymous function defined using the lambda keyword.\n",
        "\n",
        "Syntax:\n",
        "\n",
        "lambda arguments: expression\n",
        "\n",
        "Use Case:\n",
        "\n",
        "1.  Used for short, throwaway functions — especially with map(), filter(), sorted(), etc.\n",
        "\n",
        "Example (inline):\n",
        "\n",
        "square = lambda x: x * x → print(square(4)) # Output: 16\n",
        "\n"
      ],
      "metadata": {
        "id": "EJMRBxnLtnyp"
      }
    },
    {
      "cell_type": "markdown",
      "source": [
        "9. Explain the purpose and usage of the `map()` function in Python.\n",
        "\n",
        "Answers:\n",
        "\n",
        "map() applies a given function to all items in an iterable (like a list) and returns a map object (an iterator).\n",
        "\n",
        "Syntax:\n",
        "\n",
        "map(function, iterable)\n",
        "\n",
        "Purpose:\n",
        "\n",
        "1. Used to transform data without writing a loop.\n",
        "\n",
        "Example (inline):\n",
        "\n",
        "squares = list(map(lambda x: x**2, [1, 2, 3, 4])) # Output: [1, 4, 9, 16]"
      ],
      "metadata": {
        "id": "-n6JIGXht1ki"
      }
    },
    {
      "cell_type": "markdown",
      "source": [
        "10. What is the difference between `map()`, `reduce()`, and `filter()` functions in Python?\n",
        "\n",
        "Answers:\n",
        "\n",
        "1. map()- Transforms each item in an iterable using a function.\n",
        "2. filter() - Selects items from an iterable based on a condition.\n",
        "3. reduce() - Combines all items in an iterable into a single value using a function.\n",
        "\n",
        "syntaxx:\n",
        "\n",
        "map(func, iterable)  \n",
        "filter(func, iterable)  \n",
        "reduce(func, iterable)  \n",
        "\n",
        "\n",
        "Examples:\n",
        "\n",
        "1. map():\n",
        "\n",
        "squares = list(map(lambda x: x**2, [1, 2, 3])) # [1, 4, 9]\n",
        "\n",
        "2. filter():\n",
        "\n",
        "evens = list(filter(lambda x: x % 2 == 0, [1, 2, 3, 4])) # [2, 4]\n",
        "\n",
        "3. reduce():\n",
        "\n",
        "\n"
      ],
      "metadata": {
        "id": "2oKA-M-LuDIB"
      }
    },
    {
      "cell_type": "markdown",
      "source": [
        "11. Using pen & Paper write the internal mechanism for sum operation using  reduce function on this given\n",
        "list:[47,11,42,13];\n",
        "\n",
        "\n",
        "Answers:\n",
        "\n",
        "![WhatsApp Image 2025-04-04 at 10.31.04 PM.jpeg](data:image/jpeg;base64,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)"
      ],
      "metadata": {
        "id": "DOmL0jZQupyp"
      }
    }
  ]
}